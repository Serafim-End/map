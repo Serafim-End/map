{
 "cells": [
  {
   "cell_type": "code",
   "execution_count": 1,
   "metadata": {},
   "outputs": [],
   "source": [
    "from mapbox import Uploader\n",
    "from time import sleep\n",
    "from random import randint"
   ]
  },
  {
   "cell_type": "code",
   "execution_count": 2,
   "metadata": {},
   "outputs": [],
   "source": [
    "service = Uploader(access_token='sk.eyJ1IjoiZW5kbmlraXRhIiwiYSI6ImNqZ3dhc25xbDB6aGozMXFzZHl3amF4MDUifQ.TYkdN_q1Ebnd1yi_423Qsw')"
   ]
  },
  {
   "cell_type": "code",
   "execution_count": 3,
   "metadata": {},
   "outputs": [],
   "source": [
    "def upload_data(filename):\n",
    "    \n",
    "    name_file = filename.split('.')[0]\n",
    "    map_id = str(hash(name_file))    \n",
    "    with open(filename, 'rb') as src:\n",
    "        upload_response = service.upload(src, map_id)\n",
    "\n",
    "    tries = 0\n",
    "    while upload_response.status_code == 422 and tries < 5:\n",
    "        sleep(5)\n",
    "            \n",
    "        with open(filename, 'rb') as src:\n",
    "            upload_response = service.upload(src, mapid)\n",
    "            if upload_response.status_code != 422:\n",
    "                return upload_response.status_code\n",
    "        tries += 1\n",
    "    return upload_response.status_code\n"
   ]
  },
  {
   "cell_type": "code",
   "execution_count": 4,
   "metadata": {},
   "outputs": [],
   "source": [
    "# more info in documentation \n",
    "# but honestly (USE instance access token)\n",
    "# https://github.com/mapbox/mapbox-sdk-py/blob/master/docs/uploads.md#uploads"
   ]
  },
  {
   "cell_type": "code",
   "execution_count": 6,
   "metadata": {},
   "outputs": [
    {
     "data": {
      "text/plain": [
       "201"
      ]
     },
     "execution_count": 6,
     "metadata": {},
     "output_type": "execute_result"
    }
   ],
   "source": [
    "upload_data('json_5mln_loc_005mln.geojson')"
   ]
  },
  {
   "cell_type": "code",
   "execution_count": null,
   "metadata": {},
   "outputs": [],
   "source": []
  }
 ],
 "metadata": {
  "kernelspec": {
   "display_name": "Python3",
   "language": "python",
   "name": "base"
  },
  "language_info": {
   "codemirror_mode": {
    "name": "ipython",
    "version": 3
   },
   "file_extension": ".py",
   "mimetype": "text/x-python",
   "name": "python",
   "nbconvert_exporter": "python",
   "pygments_lexer": "ipython3",
   "version": "3.6.4"
  }
 },
 "nbformat": 4,
 "nbformat_minor": 2
}
